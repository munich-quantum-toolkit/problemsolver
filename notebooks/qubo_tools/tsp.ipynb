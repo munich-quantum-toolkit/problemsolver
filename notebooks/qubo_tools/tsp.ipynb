{
 "cells": [
  {
   "cell_type": "markdown",
   "metadata": {},
   "source": [
    "# Initialisation"
   ]
  },
  {
   "cell_type": "code",
   "execution_count": null,
   "metadata": {},
   "outputs": [],
   "source": [
    "from __future__ import annotations\n",
    "\n",
    "import locale\n",
    "import random\n",
    "from pathlib import Path\n",
    "\n",
    "from mqt.problemsolver.qubo_tools import pathfinder as pf\n",
    "from mqt.problemsolver.qubo_tools.pathfinder import Graph"
   ]
  },
  {
   "cell_type": "code",
   "execution_count": null,
   "metadata": {},
   "outputs": [],
   "source": [
    "with Path(\"input/graph\").open(encoding=locale.getpreferredencoding(False)) as file:\n",
    "    graph = Graph.read(file)"
   ]
  },
  {
   "cell_type": "markdown",
   "metadata": {},
   "source": [
    "# QUBO Construction"
   ]
  },
  {
   "cell_type": "markdown",
   "metadata": {},
   "source": [
    "### Parameters\n",
    "\n",
    "We begin by setting up our parameters for the QuboGenerator. The `PathFindingQuboGenerator` supports the following parameters:\n",
    "\n",
    "- `encoding_type`: One of `ONE_HOT`, `DOMAIN_WALL`, or `BINARY`. the encoding for the binary variables in  the QUBO formulation.\n",
    "- `n_paths`: The number of paths to be searched.\n",
    "- `max_path_length`: The maximum length of a path to be searched.\n",
    "- `loops`: Indicates, whether the searched path should be a loop."
   ]
  },
  {
   "cell_type": "code",
   "execution_count": null,
   "metadata": {},
   "outputs": [],
   "source": [
    "encoding_type = pf.EncodingType.DOMAIN_WALL\n",
    "n_paths = 1\n",
    "max_path_length = graph.n_vertices\n",
    "loops = True\n",
    "\n",
    "settings = pf.PathFindingQuboGeneratorSettings(encoding_type, n_paths, max_path_length, loops)"
   ]
  },
  {
   "cell_type": "markdown",
   "metadata": {},
   "source": [
    "Using these settings, we can now create a new `PathFindingQuboGenerator`:"
   ]
  },
  {
   "cell_type": "code",
   "execution_count": null,
   "metadata": {},
   "outputs": [],
   "source": [
    "generator = pf.PathFindingQuboGenerator(\n",
    "    objective_function=pf.MinimizePathLength(path_ids=[1]),\n",
    "    graph=graph,\n",
    "    settings=settings,\n",
    ")"
   ]
  },
  {
   "cell_type": "markdown",
   "metadata": {},
   "source": [
    "### Constraints\n",
    "\n",
    "We can add constraints to the QUBO generator with the `add_constraint` method. For this example, we add two constraints:\n",
    "\n",
    "1) `PathIsValid`: Enforces that the found path is actually valid (i.e. all edges in it exist).\n",
    "2) `PathContainsVerticesExactlyOnce`: Enforces that the given vertices appear exactly once in the path."
   ]
  },
  {
   "cell_type": "code",
   "execution_count": null,
   "metadata": {},
   "outputs": [],
   "source": [
    "generator.add_constraint(pf.PathIsValid(path_ids=[1]))\n",
    "generator.add_constraint(pf.PathContainsVerticesExactlyOnce(vertex_ids=graph.all_vertices, path_ids=[1]))"
   ]
  },
  {
   "cell_type": "markdown",
   "metadata": {},
   "source": [
    "### Generate QUBO Formulation\n",
    "\n",
    "There are several ways to generate the problem's QUBO formulation.\n",
    "\n",
    "`QuboGenerator.construct()` generates a simplified mathematical expression for the problem: "
   ]
  },
  {
   "cell_type": "code",
   "execution_count": null,
   "metadata": {},
   "outputs": [],
   "source": [
    "generator.construct()"
   ]
  },
  {
   "cell_type": "markdown",
   "metadata": {},
   "source": [
    "`QuboGenerator.construct_expansion()` generates an expanded formula of the form\n",
    "\n",
    "$C_{1,1}x_1 + C_{1,2}x_1x_2 + C_{1,3}x_1x_3 + ... + C_{n-1,n}x_{n-1}x_n$"
   ]
  },
  {
   "cell_type": "code",
   "execution_count": null,
   "metadata": {},
   "outputs": [],
   "source": [
    "generator.construct_expansion()"
   ]
  },
  {
   "cell_type": "markdown",
   "metadata": {},
   "source": [
    "`QuboGenerator.construct_qubo_matrix()` generates the QUBO formulation as a QUBO matrix $Q$ such that the QUBO problem can be formulated as\n",
    "\n",
    "$$\\mathbf{x}^* = \\argmin_\\mathbf{x} \\mathbf{x}^T Q \\mathbf{x}$$"
   ]
  },
  {
   "cell_type": "code",
   "execution_count": null,
   "metadata": {},
   "outputs": [],
   "source": [
    "A = generator.construct_qubo_matrix()\n",
    "A"
   ]
  },
  {
   "cell_type": "markdown",
   "metadata": {},
   "source": [
    "## Quantum Circuits"
   ]
  },
  {
   "cell_type": "markdown",
   "metadata": {},
   "source": [
    "The constructed operator can be used to create quantum circuits that solve the optimization problem.\n",
    "\n",
    "### QAOA"
   ]
  },
  {
   "cell_type": "code",
   "execution_count": null,
   "metadata": {},
   "outputs": [],
   "source": [
    "seed = random.randint(10000, 20000)\n",
    "qaoa = generator.construct_qaoa_circuit()\n",
    "qaoa.draw(output=\"text\", fold=-1)"
   ]
  },
  {
   "cell_type": "markdown",
   "metadata": {},
   "source": [
    "# Other Features"
   ]
  },
  {
   "cell_type": "markdown",
   "metadata": {},
   "source": [
    "_Use the JSON input format_"
   ]
  },
  {
   "cell_type": "code",
   "execution_count": null,
   "metadata": {},
   "outputs": [],
   "source": [
    "with Path.open(\"input/tsp.json\") as file:\n",
    "    generator_new = pf.PathFindingQuboGenerator.from_json(file.read(), graph)\n",
    "\n",
    "A = generator_new.construct_qubo_matrix()"
   ]
  },
  {
   "cell_type": "markdown",
   "metadata": {},
   "source": [
    "_Use Encoding suggestion_\n",
    "\n",
    "The `PathFindingQuboGenerator` supports the suggestion of the optimal encoding for a given problem instance, based on the number of required binary variables. "
   ]
  },
  {
   "cell_type": "code",
   "execution_count": null,
   "metadata": {},
   "outputs": [],
   "source": [
    "with Path.open(\"input/tsp.json\") as file:\n",
    "    print(pf.PathFindingQuboGenerator.suggest_encoding(file.read(), graph))"
   ]
  },
  {
   "cell_type": "markdown",
   "metadata": {},
   "source": [
    "## Different constraints\n",
    "\n",
    "_Also define the starting vertex of the path_"
   ]
  },
  {
   "cell_type": "code",
   "execution_count": null,
   "metadata": {},
   "outputs": [],
   "source": [
    "generator_new = pf.PathFindingQuboGenerator(pf.MinimizePathLength([1]), graph, settings)\n",
    "generator_new.add_constraint(pf.PathIsValid([1]))\n",
    "generator_new.add_constraint(pf.PathContainsVerticesExactlyOnce(graph.all_vertices, [1]))\n",
    "\n",
    "\n",
    "generator_new.add_constraint(pf.PathStartsAt([3], 1))\n",
    "\n",
    "\n",
    "A = generator_new.construct_qubo_matrix()\n",
    "print(A)"
   ]
  },
  {
   "cell_type": "markdown",
   "metadata": {},
   "source": [
    "_Find the shortest paths $\\pi_1$ and $\\pi_2$ from $s_p$ to $t_p$ respectively that don't intersect_"
   ]
  },
  {
   "cell_type": "code",
   "execution_count": null,
   "metadata": {},
   "outputs": [],
   "source": [
    "(s1, t1) = 1, 5\n",
    "(s2, t2) = 2, 6\n",
    "\n",
    "settings = pf.PathFindingQuboGeneratorSettings(encoding_type, n_paths=2, max_path_length=max_path_length, loops=True)\n",
    "generator_new = pf.PathFindingQuboGenerator(pf.MinimizePathLength([1, 2]), graph, settings)\n",
    "generator_new.add_constraint(pf.PathIsValid([1, 2]))\n",
    "generator_new.add_constraint(pf.PathStartsAt([s1], 1))\n",
    "generator_new.add_constraint(pf.PathStartsAt([s2], 2))\n",
    "generator_new.add_constraint(pf.PathEndsAt([t1], 1))\n",
    "generator_new.add_constraint(pf.PathEndsAt([t2], 2))\n",
    "generator_new.add_constraint(pf.PathsShareNoVertices(1, 2))"
   ]
  }
 ],
 "metadata": {
  "kernelspec": {
   "display_name": "mqt-test",
   "language": "python",
   "name": "python3"
  },
  "language_info": {
   "codemirror_mode": {
    "name": "ipython",
    "version": 3
   },
   "file_extension": ".py",
   "mimetype": "text/x-python",
   "name": "python",
   "nbconvert_exporter": "python",
   "pygments_lexer": "ipython3"
  }
 },
 "nbformat": 4,
 "nbformat_minor": 2
}
